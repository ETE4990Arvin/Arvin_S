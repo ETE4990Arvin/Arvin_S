{
 "cells": [
  {
   "cell_type": "code",
   "execution_count": null,
   "id": "a5b53de3",
   "metadata": {},
   "outputs": [
    {
     "name": "stdout",
     "output_type": "stream",
     "text": [
      "Press return to roll your die.\n",
      "5\n",
      "You rolled 5\n",
      "The computer rolls....\n",
      "The computer has rolled a 5\n",
      "You win\n",
      "Quit? Y/N\n"
     ]
    }
   ],
   "source": [
    "# Dice Roll\n",
    "# Arvin Sanvelian\n",
    "# ETE 4990L\n",
    "\n",
    "\n",
    "import random\n",
    "import time\n",
    "\n",
    "def dice():\n",
    "        player = random.randint(1,6)\n",
    "        print(\"You rolled \" + str(player) )\n",
    "\n",
    "        ai = random.randint(1,6)\n",
    "        print(\"The computer rolls....\" )\n",
    "        time.sleep(2)\n",
    "        print(\"The computer has rolled a \" + str(player) )\n",
    "\n",
    "        if player > ai :\n",
    "            print(\"You win\")  # notice indentation\n",
    "        else:\n",
    "            print(\"You lose\")\n",
    "\n",
    "        print(\"Quit? Y/N\")\n",
    "        cont = input()\n",
    "\n",
    "        if cont == \"Y\" or cont == \"y\":\n",
    "            exit()\n",
    "        elif cont == \"N\" or cont == \"n\":\n",
    "            pass\n",
    "        else:\n",
    "            print(\"I did not understand that. Playing again.\")\n",
    "            \n",
    "# main loop\n",
    "while True:\n",
    "        print(\"Press return to roll your die.\")\n",
    "        roll = input()\n",
    "        dice()"
   ]
  },
  {
   "cell_type": "code",
   "execution_count": null,
   "id": "a5efdd4d",
   "metadata": {},
   "outputs": [],
   "source": []
  }
 ],
 "metadata": {
  "kernelspec": {
   "display_name": "Python 3 (ipykernel)",
   "language": "python",
   "name": "python3"
  },
  "language_info": {
   "codemirror_mode": {
    "name": "ipython",
    "version": 3
   },
   "file_extension": ".py",
   "mimetype": "text/x-python",
   "name": "python",
   "nbconvert_exporter": "python",
   "pygments_lexer": "ipython3",
   "version": "3.11.5"
  }
 },
 "nbformat": 4,
 "nbformat_minor": 5
}
